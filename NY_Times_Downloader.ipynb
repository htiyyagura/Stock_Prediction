{
 "cells": [
  {
   "cell_type": "code",
   "execution_count": null,
   "metadata": {},
   "outputs": [],
   "source": [
    "import pandas as pd\n",
    "import numpy as np\n",
    "import requests\n",
    "import json"
   ]
  },
  {
   "cell_type": "code",
   "execution_count": null,
   "metadata": {},
   "outputs": [],
   "source": [
    "api = \"af40190ac3274d36aee4a7e801e865c7\""
   ]
  },
  {
   "cell_type": "code",
   "execution_count": 16,
   "metadata": {},
   "outputs": [],
   "source": [
    "def download_json(year, month, api):\n",
    "    \"Download news for a particular year and month and save as a json file\"\n",
    "    \n",
    "    url = \"http://api.nytimes.com/svc/archive/v1/{}/{}.json?api-key={}\"\n",
    "    url = url.format(year, month, api)\n",
    "    \n",
    "    file_str = r'C:\\Users\\tbrti\\Desktop\\Nani\\PACEDS\\Course_Project/Data/' + str(year) + '-' + '{:02}'.format(month) + '.json'\n",
    "\n",
    "    items = requests.get(url)\n",
    "    \n",
    "    try:\n",
    "        data = items.json()\n",
    "\n",
    "        with open(file_str, 'w') as f:\n",
    "            json.dump(data, f)\n",
    "    except:\n",
    "        pass\n",
    "    \n",
    "    return \"Finished downloading {}/{}\".format(year, month)"
   ]
  },
  {
   "cell_type": "code",
   "execution_count": null,
   "metadata": {},
   "outputs": [],
   "source": [
    "for i in range(1990, 2019):\n",
    "        for j in range(1, 13):\n",
    "            try:\n",
    "                download_json(i, j, api)\n",
    "            except:\n",
    "                pass"
   ]
  },
  {
   "cell_type": "code",
   "execution_count": 6,
   "metadata": {},
   "outputs": [],
   "source": [
    "def open_json(year, month):\n",
    "    \"Save as pandas dataframe\"\n",
    "    file_str = r'C:\\Users\\tbrti\\Desktop\\Nani\\PACEDS\\Course_Project/Data/' + str(year) + '-' + '{:02}'.format(month) + '.json'\n",
    "    with open(file_str) as data_file:    \n",
    "        NYTimes_data = json.load(data_file)\n",
    "    \n",
    "    date_list = []\n",
    "    df = pd.DataFrame()  \n",
    "    df['News'] = None\n",
    "    \n",
    "\n",
    "    for i in range(len(NYTimes_data[\"response\"][\"docs\"][:])):\n",
    "        if NYTimes_data[\"response\"][\"docs\"][i][\"pub_date\"][:10] not in df.index:\n",
    "            df.ix[NYTimes_data[\"response\"][\"docs\"][i][\"pub_date\"][:10]] = NYTimes_data[\"response\"][\"docs\"][:][i]['headline']['main']\n",
    "        else:\n",
    "            df.ix[NYTimes_data[\"response\"][\"docs\"][i][\"pub_date\"][:10]] = df.ix[NYTimes_data[\"response\"][\"docs\"][i][\"pub_date\"][:10]].values + NYTimes_data[\"response\"][\"docs\"][:][i]['headline']['main']\n",
    "    \n",
    "    df.index = pd.to_datetime(df.index, format='%Y-%m-%d')\n",
    "    df.sort_index(inplace=True)\n",
    "    \n",
    "    return df"
   ]
  },
  {
   "cell_type": "code",
   "execution_count": 5,
   "metadata": {},
   "outputs": [
    {
     "ename": "NameError",
     "evalue": "name 'open_json' is not defined",
     "output_type": "error",
     "traceback": [
      "\u001b[1;31m---------------------------------------------------------------------------\u001b[0m",
      "\u001b[1;31mNameError\u001b[0m                                 Traceback (most recent call last)",
      "\u001b[1;32m<ipython-input-5-3fe315fb9da8>\u001b[0m in \u001b[0;36m<module>\u001b[1;34m()\u001b[0m\n\u001b[1;32m----> 1\u001b[1;33m \u001b[0mdf\u001b[0m \u001b[1;33m=\u001b[0m \u001b[0mopen_json\u001b[0m\u001b[1;33m(\u001b[0m\u001b[1;36m2018\u001b[0m\u001b[1;33m,\u001b[0m \u001b[1;36m6\u001b[0m\u001b[1;33m)\u001b[0m\u001b[1;33m\u001b[0m\u001b[0m\n\u001b[0m\u001b[0;32m      2\u001b[0m \u001b[0mdf\u001b[0m\u001b[1;33m\u001b[0m\u001b[0m\n",
      "\u001b[1;31mNameError\u001b[0m: name 'open_json' is not defined"
     ]
    }
   ],
   "source": [
    "df = open_json(2018, 6)\n",
    "df"
   ]
  },
  {
   "cell_type": "code",
   "execution_count": null,
   "metadata": {},
   "outputs": [],
   "source": []
  }
 ],
 "metadata": {
  "kernelspec": {
   "display_name": "Python 3",
   "language": "python",
   "name": "python3"
  },
  "language_info": {
   "codemirror_mode": {
    "name": "ipython",
    "version": 3
   },
   "file_extension": ".py",
   "mimetype": "text/x-python",
   "name": "python",
   "nbconvert_exporter": "python",
   "pygments_lexer": "ipython3",
   "version": "3.6.5"
  }
 },
 "nbformat": 4,
 "nbformat_minor": 2
}
